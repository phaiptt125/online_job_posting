{
 "cells": [
  {
   "cell_type": "code",
   "execution_count": 1,
   "metadata": {},
   "outputs": [],
   "source": [
    "import os, re, sys\n",
    "import pandas as pd\n",
    "from collections import Counter \n",
    "\n",
    "#!pip install fuzzywuzzy \n",
    "from fuzzywuzzy import fuzz\n",
    "from fuzzywuzzy import process\n",
    "\n",
    "#!pip install python-Levenshtein\n",
    "import Levenshtein "
   ]
  },
  {
   "cell_type": "markdown",
   "metadata": {},
   "source": [
    "# Assign CUSIP to company name from job ads\n",
    "\n",
    "Phai Phongthiengtham\n",
    "- March 19, 2019"
   ]
  },
  {
   "cell_type": "markdown",
   "metadata": {},
   "source": [
    "This notebook demonstrates how I match company name from job ads to Committee on Uniform Security Identification Procedures (CUSIP), in order to merge with Compustat dataset.\n",
    "\n",
    "**Due to copyright restrictions, I am not authorized to publish either Compustat, job posting data, nor the full results.**\n",
    "\n",
    "-----------"
   ]
  },
  {
   "cell_type": "markdown",
   "metadata": {},
   "source": [
    "### Define string cleaning functions\n",
    "First, we need to perform some cleaning on company names. There are two steps.\n",
    "\n",
    "1. initial_clean( ): This function removes unneccessary words and substitutes abbrevations.\n",
    "2. simplify_name( ): This function further simplifies names from initial_clean( ).  \n",
    "\n",
    "This process has been manually checked to confirm that all Compustat company name is uniquely preserved, i,e., no two compustat company with the same simplified name. This is important as many compustat companies have similar names. For example, \n",
    "\n",
    "- BROOKFIELD BUSINESS PRTNR LP (CUSIP = G16234109), and\n",
    "- BROOKFIELD PROPERTY PRTRS LP (CUSIP = G16249107).\n",
    "\n",
    "If I simplified too much, then the these two companies would have the same simplified name."
   ]
  },
  {
   "cell_type": "code",
   "execution_count": 2,
   "metadata": {},
   "outputs": [],
   "source": [
    "def initial_clean(input_string):\n",
    "    \n",
    "    substitute = input_string.lower()\n",
    "    substitute = re.sub('\\\\b' + '\\s?- old' + '\\\\b' , ' ', substitute)\n",
    "    substitute = re.sub('\\\\b' + '\\s?- consol' + '\\\\b' , ' ' , substitute)\n",
    "    substitute = re.sub('\\\\b' + '\\s?- consolidated' + '\\\\b' , ' ', substitute)\n",
    "    substitute = re.sub('\\\\b' + '\\s?- cl' + '\\\\b' , ' ' , substitute)\n",
    "    substitute = re.sub('\\\\b' + '\\s?- redh' + '\\\\b' , ' ' , substitute)\n",
    "    substitute = re.sub('\\\\b' + '\\s?- corp' + '\\\\b' , ' corp ' , substitute)\n",
    "    substitute = re.sub('\\\\b' + '\\s?- adr' + '\\\\b' , ' ' , substitute)\n",
    "    substitute = re.sub('\\\\b' + '\\s?- ads' + '\\\\b' , ' ' , substitute)\n",
    "    substitute = re.sub('\\\\b' + '\\s?- inc' + '\\\\b' , ' inc ' , substitute)\n",
    "    substitute = re.sub('\\\\b' + '\\s?- lp' + '\\\\b' , ' lp ' , substitute)\n",
    "    substitute = re.sub('\\\\b' + '\\s?- pro' + '\\\\b' , ' pro ' , substitute)\n",
    "    substitute = re.sub('\\\\b' + 'wal mart' + '\\\\b' , ' walmart ' , substitute)\n",
    "    substitute = re.sub('\\\\b' + 'wal-mart' + '\\\\b' , ' walmart ' , substitute)\n",
    "    substitute = re.sub('\\\\b' + \"toys 'r' us\" + '\\\\b' , ' toys r us  ' , substitute)\n",
    "    substitute = re.sub('\\\\b' + 'and' + '\\\\b' , ' & ' , substitute)\n",
    "    substitute = re.sub('\\\\b' + 'the' + '\\\\b' , ' ' , substitute)\n",
    "\n",
    "    substitute = re.sub('\\\\b' + 'holdings' + '\\\\b' , ' hldgs ' , substitute)\n",
    "    substitute = re.sub('\\\\b' + 'holding' + '\\\\b' , ' hldgs ' , substitute)\n",
    "    substitute = re.sub('\\\\b' + 'limited' + '\\\\b' , ' ltd ' , substitute)\n",
    "    substitute = re.sub('\\\\b' + 'corporations' + '\\\\b' , ' corp ' , substitute)\n",
    "    substitute = re.sub('\\\\b' + 'corporation' + '\\\\b' , ' corp ' , substitute)\n",
    "    substitute = re.sub('\\\\b' + 'international' + '\\\\b' , ' intl ' , substitute)\n",
    "    substitute = re.sub('\\\\b' + 'incorporated' + '\\\\b' , ' inc ' , substitute)\n",
    "    substitute = re.sub('\\\\b' + 'company' + '\\\\b' , ' co ' , substitute)\n",
    "    substitute = re.sub('\\\\b' + 'entertainment' + '\\\\b' , ' entmt ' , substitute)\n",
    "    substitute = re.sub('\\\\b' + 'products' + '\\\\b' , ' prods ' , substitute)\n",
    "    substitute = re.sub('\\\\b' + 'opportunities' + '\\\\b' , ' opp ' , substitute)\n",
    "    substitute = re.sub('\\\\b' + 'management' + '\\\\b' , ' mgmt ' , substitute)\n",
    "    substitute = re.sub('\\\\b' + 'managements' + '\\\\b' , ' mgmt ' , substitute)\n",
    "    substitute = re.sub('\\\\b' + 'income' + '\\\\b' , ' incm ' , substitute)\n",
    "    substitute = re.sub('\\\\b' + 'technologies' + '\\\\b' , ' tech ' , substitute)\n",
    "    substitute = re.sub('\\\\b' + 'national' + '\\\\b' , ' natl ' , substitute)\n",
    "    substitute = re.sub('\\\\b' + 'u s' + '\\\\b' , ' us ' , substitute)\n",
    "    substitute = re.sub('\\\\b' + 'bank' + '\\\\b' , ' bk ' , substitute)\n",
    "    \n",
    "    substitute = re.sub('\\\\b' + 'manufacturing' + '\\\\b' , ' mfg ' , substitute)\n",
    "    substitute = re.sub('\\\\b' + 'laboratories' + '\\\\b' , ' labs ' , substitute)\n",
    "    substitute = re.sub('\\\\b' + 'laboratory' + '\\\\b' , ' labs ' , substitute)\n",
    "    substitute = re.sub('\\\\b' + 'lab' + '\\\\b' , ' labs ' , substitute)\n",
    "    substitute = re.sub('\\\\b' + 'group' + '\\\\b' , ' grp ' , substitute)\n",
    "    substitute = re.sub('\\\\b' + 'groups' + '\\\\b' , ' grp ' , substitute)\n",
    "    substitute = re.sub('\\\\b' + 'partners' + '\\\\b' , ' prtnrs ' , substitute)\n",
    "    substitute = re.sub('\\\\b' + '1-5' + '\\\\b' , ' 1to5 ' , substitute)\n",
    "\n",
    "    substitute = re.sub('\\\\b' + 'angiotech pharmaceuticals us inc' + '\\\\b' , ' angiotech pharmaceuticals inc ' , substitute)\n",
    "    substitute = re.sub('\\\\b' + 'farmers national banc corp oh' + '\\\\b' , ' farmers national banc corp ' , substitute)\n",
    "    substitute = re.sub('\\\\b' + 'lyondellbasell industries nv' + '\\\\b' , ' lyondellbasell industries inc ' , substitute)\n",
    "    substitute = re.sub('\\\\b' + 'newtek business services inc' + '\\\\b' , ' newtek business services corp ' , substitute)\n",
    "\n",
    "    substitute = re.sub('\\\\b' + 'healthcare service grp' + '\\\\b' , ' healthcare services grp ' , substitute)\n",
    "    substitute = re.sub('\\\\b' + 'mitchells & butler plc' + '\\\\b' , ' mitchells & butlers plc ' , substitute)\n",
    "    substitute = re.sub('\\\\b' + 'j g wentworth co' + '\\\\b' , ' jg wentworth co ' , substitute)\n",
    "    substitute = re.sub('\\\\b' + 'l s starrett co' + '\\\\b' , ' ls starrett co ' , substitute)\n",
    "    substitute = re.sub('\\\\b' + 'jcpenney co inc' + '\\\\b' , ' jc penney co inc ' , substitute)\n",
    "    substitute = re.sub('\\\\b' + 'blackstone grp l p' + '\\\\b' , ' blackstone grp lp ' , substitute)\n",
    "    substitute = re.sub('\\\\b' + 'service master co' + '\\\\b' , ' servicemaster co ' , substitute)\n",
    "    substitute = re.sub('\\\\b' + 'j m smucker co' + '\\\\b' , ' jm smucker co ' , substitute)\n",
    "    substitute = re.sub('\\\\b' + 'towne bank' + '\\\\b' , ' townebank ' , substitute)\n",
    "    substitute = re.sub('\\\\b' + 'gerdau s a' + '\\\\b' , ' gerdau sa ' , substitute)\n",
    "    substitute = re.sub('\\\\b' + 'southern california edison co' + '\\\\b' , ' southern california edison ' , substitute)\n",
    "\n",
    "    split_space = [w for w in re.split(' ',substitute) if not w=='']\n",
    "    final_tokens = list()\n",
    "    \n",
    "    for token in split_space:\n",
    "        \n",
    "        clean_token = token\n",
    "        \n",
    "        clean_token = clean_token.replace('-old',' ')\n",
    "        clean_token = clean_token.replace('(the)',' ')\n",
    "        clean_token = clean_token.replace('(',' ')\n",
    "        clean_token = clean_token.replace(')',' ')\n",
    "        clean_token = clean_token.replace(\"'s\",'s')\n",
    "        clean_token = clean_token.replace(\"s'\",'s')\n",
    "        clean_token = clean_token.replace('|',' ')\n",
    "        clean_token = clean_token.replace(',',' ')\n",
    "        clean_token = clean_token.replace('-',' ')\n",
    "        \n",
    "        clean_token = clean_token.replace('-consol',' ')\n",
    "        clean_token = clean_token.replace('-consolidated',' ')\n",
    "        clean_token = clean_token.replace('-cl',' ')\n",
    "        clean_token = clean_token.replace('-redh',' ')\n",
    "        clean_token = clean_token.replace('-spn',' ')\n",
    "        clean_token = clean_token.replace('corp-',' corp ')\n",
    "        clean_token = clean_token.replace('-corp',' corp ')\n",
    "        clean_token = clean_token.replace('-adr',' ')\n",
    "        clean_token = clean_token.replace('-ads',' ')\n",
    "        clean_token = clean_token.replace('inc-',' inc ')\n",
    "        clean_token = clean_token.replace('-inc',' inc ')\n",
    "        clean_token = clean_token.replace('-lp',' lp ') #limited partnership\n",
    "        clean_token = clean_token.replace('us.',' us ')\n",
    "        clean_token = clean_token.replace('u.s.',' us ')\n",
    "        clean_token = clean_token.replace('/',' ')\n",
    "                \n",
    "        if re.findall(re.escape('.'),token): #remove period but NOT .com\n",
    "            if not re.findall(re.escape('.')+'com', token):\n",
    "                clean_token = clean_token.replace('.','')\n",
    "        \n",
    "        final_tokens.append(clean_token)\n",
    "\n",
    "    clean_name = ' '.join(final_tokens)\n",
    "    clean_name = ' '.join([w for w in re.split(' ',clean_name) if not w==''])\n",
    "\n",
    "    return clean_name\n",
    "\n",
    "#.................................................................................................#\n",
    "\n",
    "remove_word = ['inc','plc','lp', 'llc','the','corp','co']\n",
    "exception = ['alcoa','aramark','carnival','bancorp','cinemedia','spire','tivo','allergan']\n",
    "\n",
    "def simplify_name(input_string):\n",
    "\n",
    "    simplify_name = input_string.lower()\n",
    "    simplify_name = re.sub('[^a-z0-9 ]','',simplify_name)\n",
    "    \n",
    "    # remove extra white spaces and sort tokens by alphabetical (allows for word swap)\n",
    "    selected_token = sorted([w for w in re.split(' ',simplify_name) if not w=='']) \n",
    "    output_string = ' '.join(selected_token)\n",
    "    \n",
    "    # remove words in \"remove_word\", skip if contains any company in \"exception\"\n",
    "    # NOTE: these exceptions are neccessary,\n",
    "    # otherwise, simplify_name() will produce duplicate results.  \n",
    "    # For example, \"bancorp\" appears in many companies in compustat \n",
    "\n",
    "    if not bool(set(exception).intersection(selected_token)):\n",
    "        selected_token = [w for w in selected_token if not w in remove_word]\n",
    "        output_string = ' '.join(selected_token)\n",
    "    \n",
    "    return output_string"
   ]
  },
  {
   "cell_type": "markdown",
   "metadata": {},
   "source": [
    "### Import a list of company names from Compustat\n",
    "\n",
    "- \"conm\": Company name\n",
    "- \"conml\": Company legal name"
   ]
  },
  {
   "cell_type": "code",
   "execution_count": 3,
   "metadata": {},
   "outputs": [
    {
     "data": {
      "text/html": [
       "<div>\n",
       "<style scoped>\n",
       "    .dataframe tbody tr th:only-of-type {\n",
       "        vertical-align: middle;\n",
       "    }\n",
       "\n",
       "    .dataframe tbody tr th {\n",
       "        vertical-align: top;\n",
       "    }\n",
       "\n",
       "    .dataframe thead th {\n",
       "        text-align: right;\n",
       "    }\n",
       "</style>\n",
       "<table border=\"1\" class=\"dataframe\">\n",
       "  <thead>\n",
       "    <tr style=\"text-align: right;\">\n",
       "      <th></th>\n",
       "      <th>conm</th>\n",
       "      <th>conml</th>\n",
       "      <th>cusip</th>\n",
       "    </tr>\n",
       "  </thead>\n",
       "  <tbody>\n",
       "    <tr>\n",
       "      <th>0</th>\n",
       "      <td>A&amp;W REVENUE ROYALTIES INC FD</td>\n",
       "      <td>A&amp;W Revenue Royalties Income Fund</td>\n",
       "      <td>000255109</td>\n",
       "    </tr>\n",
       "    <tr>\n",
       "      <th>1</th>\n",
       "      <td>AAC HOLDINGS INC</td>\n",
       "      <td>AAC Holdings Inc</td>\n",
       "      <td>000307108</td>\n",
       "    </tr>\n",
       "    <tr>\n",
       "      <th>2</th>\n",
       "      <td>AAON INC</td>\n",
       "      <td>AAON Inc</td>\n",
       "      <td>000360206</td>\n",
       "    </tr>\n",
       "    <tr>\n",
       "      <th>3</th>\n",
       "      <td>AAR CORP</td>\n",
       "      <td>AAR Corp</td>\n",
       "      <td>000361105</td>\n",
       "    </tr>\n",
       "    <tr>\n",
       "      <th>4</th>\n",
       "      <td>ABB LTD</td>\n",
       "      <td>ABB Ltd</td>\n",
       "      <td>000375204</td>\n",
       "    </tr>\n",
       "  </tbody>\n",
       "</table>\n",
       "</div>"
      ],
      "text/plain": [
       "                           conm                              conml      cusip\n",
       "0  A&W REVENUE ROYALTIES INC FD  A&W Revenue Royalties Income Fund  000255109\n",
       "1              AAC HOLDINGS INC                   AAC Holdings Inc  000307108\n",
       "2                      AAON INC                           AAON Inc  000360206\n",
       "3                      AAR CORP                           AAR Corp  000361105\n",
       "4                       ABB LTD                            ABB Ltd  000375204"
      ]
     },
     "execution_count": 3,
     "metadata": {},
     "output_type": "execute_result"
    }
   ],
   "source": [
    "input_filename =  'compustat_firm_name_with_cusip.txt'\n",
    "df_cp = pd.read_csv(input_filename, sep = '\\t')\n",
    "df_cp.head()"
   ]
  },
  {
   "cell_type": "markdown",
   "metadata": {},
   "source": [
    "- Perform cleaning steps"
   ]
  },
  {
   "cell_type": "code",
   "execution_count": 4,
   "metadata": {},
   "outputs": [
    {
     "data": {
      "text/html": [
       "<div>\n",
       "<style scoped>\n",
       "    .dataframe tbody tr th:only-of-type {\n",
       "        vertical-align: middle;\n",
       "    }\n",
       "\n",
       "    .dataframe tbody tr th {\n",
       "        vertical-align: top;\n",
       "    }\n",
       "\n",
       "    .dataframe thead th {\n",
       "        text-align: right;\n",
       "    }\n",
       "</style>\n",
       "<table border=\"1\" class=\"dataframe\">\n",
       "  <thead>\n",
       "    <tr style=\"text-align: right;\">\n",
       "      <th></th>\n",
       "      <th>conm</th>\n",
       "      <th>conml</th>\n",
       "      <th>cusip</th>\n",
       "      <th>clean_conm</th>\n",
       "      <th>clean_conml</th>\n",
       "      <th>simplified_conm</th>\n",
       "      <th>simplified_conml</th>\n",
       "    </tr>\n",
       "  </thead>\n",
       "  <tbody>\n",
       "    <tr>\n",
       "      <th>0</th>\n",
       "      <td>A&amp;W REVENUE ROYALTIES INC FD</td>\n",
       "      <td>A&amp;W Revenue Royalties Income Fund</td>\n",
       "      <td>000255109</td>\n",
       "      <td>a&amp;w revenue royalties inc fd</td>\n",
       "      <td>a&amp;w revenue royalties incm fund</td>\n",
       "      <td>aw fd revenue royalties</td>\n",
       "      <td>aw fund incm revenue royalties</td>\n",
       "    </tr>\n",
       "    <tr>\n",
       "      <th>1</th>\n",
       "      <td>AAC HOLDINGS INC</td>\n",
       "      <td>AAC Holdings Inc</td>\n",
       "      <td>000307108</td>\n",
       "      <td>aac hldgs inc</td>\n",
       "      <td>aac hldgs inc</td>\n",
       "      <td>aac hldgs</td>\n",
       "      <td>aac hldgs</td>\n",
       "    </tr>\n",
       "    <tr>\n",
       "      <th>2</th>\n",
       "      <td>AAON INC</td>\n",
       "      <td>AAON Inc</td>\n",
       "      <td>000360206</td>\n",
       "      <td>aaon inc</td>\n",
       "      <td>aaon inc</td>\n",
       "      <td>aaon</td>\n",
       "      <td>aaon</td>\n",
       "    </tr>\n",
       "    <tr>\n",
       "      <th>3</th>\n",
       "      <td>AAR CORP</td>\n",
       "      <td>AAR Corp</td>\n",
       "      <td>000361105</td>\n",
       "      <td>aar corp</td>\n",
       "      <td>aar corp</td>\n",
       "      <td>aar</td>\n",
       "      <td>aar</td>\n",
       "    </tr>\n",
       "    <tr>\n",
       "      <th>4</th>\n",
       "      <td>ABB LTD</td>\n",
       "      <td>ABB Ltd</td>\n",
       "      <td>000375204</td>\n",
       "      <td>abb ltd</td>\n",
       "      <td>abb ltd</td>\n",
       "      <td>abb ltd</td>\n",
       "      <td>abb ltd</td>\n",
       "    </tr>\n",
       "  </tbody>\n",
       "</table>\n",
       "</div>"
      ],
      "text/plain": [
       "                           conm                              conml      cusip  \\\n",
       "0  A&W REVENUE ROYALTIES INC FD  A&W Revenue Royalties Income Fund  000255109   \n",
       "1              AAC HOLDINGS INC                   AAC Holdings Inc  000307108   \n",
       "2                      AAON INC                           AAON Inc  000360206   \n",
       "3                      AAR CORP                           AAR Corp  000361105   \n",
       "4                       ABB LTD                            ABB Ltd  000375204   \n",
       "\n",
       "                     clean_conm                      clean_conml  \\\n",
       "0  a&w revenue royalties inc fd  a&w revenue royalties incm fund   \n",
       "1                 aac hldgs inc                    aac hldgs inc   \n",
       "2                      aaon inc                         aaon inc   \n",
       "3                      aar corp                         aar corp   \n",
       "4                       abb ltd                          abb ltd   \n",
       "\n",
       "           simplified_conm                simplified_conml  \n",
       "0  aw fd revenue royalties  aw fund incm revenue royalties  \n",
       "1                aac hldgs                       aac hldgs  \n",
       "2                     aaon                            aaon  \n",
       "3                      aar                             aar  \n",
       "4                  abb ltd                         abb ltd  "
      ]
     },
     "execution_count": 4,
     "metadata": {},
     "output_type": "execute_result"
    }
   ],
   "source": [
    "df_cp['clean_conm'] = df_cp['conm'].apply( lambda x: initial_clean(x) )\n",
    "df_cp['clean_conml'] = df_cp['conml'].apply( lambda x: initial_clean(x) )\n",
    "\n",
    "df_cp['simplified_conm'] = df_cp['clean_conm'].apply( lambda x: simplify_name(x) )\n",
    "df_cp['simplified_conml'] = df_cp['clean_conml'].apply( lambda x: simplify_name(x) )\n",
    "\n",
    "df_cp.head()"
   ]
  },
  {
   "cell_type": "markdown",
   "metadata": {},
   "source": [
    "### Define a function that assigns CUSIP\n",
    "\n",
    "1. For each company name from job ads, first perform step 1 cleaning process using initial_clean().\n",
    "2. Then, check if there is a match with \"clean_conm\". If not, then move to \"clean_conml\"\n",
    "3. If no match in step 2, further simplify company name using simplify_name(). \n",
    "4. Repeat step 2 using simplified name."
   ]
  },
  {
   "cell_type": "code",
   "execution_count": 5,
   "metadata": {},
   "outputs": [],
   "source": [
    "def assign_cusip(company_name, df_cp):\n",
    "    \n",
    "    clean_name = initial_clean(company_name)\n",
    "    simplified_name = simplify_name(clean_name)\n",
    "    \n",
    "    if clean_name in df_cp['clean_conm'].values: \n",
    "        cusip = list(df_cp[df_cp['clean_conm'] == clean_name]['cusip'])[0]        \n",
    "        print('match type 1: cusip = ' + cusip)\n",
    "        \n",
    "    elif clean_name in df_cp['clean_conml'].values: \n",
    "        cusip = list(df_cp[df_cp['clean_conml'] == clean_name]['cusip'])[0]\n",
    "        print('match type 2: cusip = ' + cusip)\n",
    "        \n",
    "    elif simplified_name in df_cp['simplified_conm'].values: \n",
    "        cusip = list(df_cp[df_cp['simplified_conm'] == simplified_name]['cusip'])[0]\n",
    "        print('match type 3: cusip = ' + cusip)\n",
    "        \n",
    "    elif simplified_name in df_cp['simplified_conml'].values: \n",
    "        cusip = list(df_cp[df_cp['simplified_conml'] == simplified_name]['cusip'])[0]\n",
    "        print('match type 4: cusip = ' + cusip)\n",
    "        \n",
    "    else:\n",
    "        cusip = '-9999' # missing value\n",
    "        print('no match')\n",
    "        \n",
    "    # print out actual observation (only for illustration)\n",
    "    if not cusip == '-9999':\n",
    "        print('------------------------')\n",
    "        print(df_cp[df_cp['cusip'] == cusip])\n",
    "        \n",
    "    return cusip "
   ]
  },
  {
   "cell_type": "markdown",
   "metadata": {},
   "source": [
    "- I present some matched examples from actual ads below:"
   ]
  },
  {
   "cell_type": "code",
   "execution_count": 6,
   "metadata": {},
   "outputs": [
    {
     "name": "stdout",
     "output_type": "stream",
     "text": [
      "--- Original name ---\n",
      "ACCENTURE, INC.\n",
      "--- Initial cleaning ---\n",
      "accenture inc\n",
      "--- Simplified name ---\n",
      "accenture\n",
      "--- Perform matching ---\n",
      "match type 3: cusip = G1151C101\n",
      "------------------------\n",
      "               conm          conml      cusip     clean_conm    clean_conml  \\\n",
      "9893  ACCENTURE PLC  Accenture PLC  G1151C101  accenture plc  accenture plc   \n",
      "\n",
      "     simplified_conm simplified_conml  \n",
      "9893       accenture        accenture  \n"
     ]
    },
    {
     "data": {
      "text/plain": [
       "'G1151C101'"
      ]
     },
     "execution_count": 6,
     "metadata": {},
     "output_type": "execute_result"
    }
   ],
   "source": [
    "company_name = 'ACCENTURE, INC.'\n",
    "clean_name = initial_clean(company_name)\n",
    "simplified_name = simplify_name(clean_name)\n",
    "\n",
    "print('--- Original name ---')\n",
    "print(company_name)\n",
    "print('--- Initial cleaning ---')\n",
    "print(clean_name)\n",
    "print('--- Simplified name ---')\n",
    "print(simplified_name)\n",
    "print('--- Perform matching ---')\n",
    "assign_cusip(company_name, df_cp)"
   ]
  },
  {
   "cell_type": "code",
   "execution_count": 7,
   "metadata": {},
   "outputs": [
    {
     "name": "stdout",
     "output_type": "stream",
     "text": [
      "--- Original name ---\n",
      "IBI Group Inc.\n",
      "--- Initial cleaning ---\n",
      "ibi grp inc\n",
      "--- Simplified name ---\n",
      "grp ibi\n",
      "--- Perform matching ---\n",
      "match type 1: cusip = 44925L103\n",
      "------------------------\n",
      "               conm          conml      cusip   clean_conm  clean_conml  \\\n",
      "4303  IBI GROUP INC  IBI Group Inc  44925L103  ibi grp inc  ibi grp inc   \n",
      "\n",
      "     simplified_conm simplified_conml  \n",
      "4303         grp ibi          grp ibi  \n"
     ]
    },
    {
     "data": {
      "text/plain": [
       "'44925L103'"
      ]
     },
     "execution_count": 7,
     "metadata": {},
     "output_type": "execute_result"
    }
   ],
   "source": [
    "company_name = 'IBI Group Inc.'\n",
    "clean_name = initial_clean(company_name)\n",
    "simplified_name = simplify_name(clean_name)\n",
    "\n",
    "print('--- Original name ---')\n",
    "print(company_name)\n",
    "print('--- Initial cleaning ---')\n",
    "print(clean_name)\n",
    "print('--- Simplified name ---')\n",
    "print(simplified_name)\n",
    "print('--- Perform matching ---')\n",
    "assign_cusip(company_name, df_cp)"
   ]
  },
  {
   "cell_type": "code",
   "execution_count": 8,
   "metadata": {},
   "outputs": [
    {
     "name": "stdout",
     "output_type": "stream",
     "text": [
      "--- Original name ---\n",
      "The Habit Restaurants LLC\n",
      "--- Initial cleaning ---\n",
      "habit restaurants llc\n",
      "--- Simplified name ---\n",
      "habit restaurants\n",
      "--- Perform matching ---\n",
      "match type 3: cusip = 40449J103\n",
      "------------------------\n",
      "                             conm                        conml      cusip  \\\n",
      "4028  HABIT RESTAURANTS INC (THE)  Habit Restaurants Inc (The)  40449J103   \n",
      "\n",
      "                 clean_conm            clean_conml    simplified_conm  \\\n",
      "4028  habit restaurants inc  habit restaurants inc  habit restaurants   \n",
      "\n",
      "       simplified_conml  \n",
      "4028  habit restaurants  \n"
     ]
    },
    {
     "data": {
      "text/plain": [
       "'40449J103'"
      ]
     },
     "execution_count": 8,
     "metadata": {},
     "output_type": "execute_result"
    }
   ],
   "source": [
    "company_name = 'The Habit Restaurants LLC'\n",
    "clean_name = initial_clean(company_name)\n",
    "simplified_name = simplify_name(clean_name)\n",
    "\n",
    "print('--- Original name ---')\n",
    "print(company_name)\n",
    "print('--- Initial cleaning ---')\n",
    "print(clean_name)\n",
    "print('--- Simplified name ---')\n",
    "print(simplified_name)\n",
    "print('--- Perform matching ---')\n",
    "assign_cusip(company_name, df_cp)"
   ]
  },
  {
   "cell_type": "markdown",
   "metadata": {},
   "source": [
    "- NOTE: Repeat this step, if the ad also provides master company name."
   ]
  },
  {
   "cell_type": "markdown",
   "metadata": {},
   "source": [
    "### Fuzzy string matching\n",
    "\n",
    "According to wikipedia, Fuzzy string matching is the technique of finding strings that match a pattern approximately (rather than exactly). For example:"
   ]
  },
  {
   "cell_type": "code",
   "execution_count": 9,
   "metadata": {},
   "outputs": [
    {
     "name": "stdout",
     "output_type": "stream",
     "text": [
      "97\n"
     ]
    }
   ],
   "source": [
    "print(fuzz.ratio(\"jc penny co inc\", \"jcpenny co inc\"))"
   ]
  },
  {
   "cell_type": "markdown",
   "metadata": {},
   "source": [
    "The higher score (maximum of 100) means the two strings are extremely similar. However, it is possible to have two similar strings refering to different companies. For example: "
   ]
  },
  {
   "cell_type": "code",
   "execution_count": 10,
   "metadata": {},
   "outputs": [
    {
     "name": "stdout",
     "output_type": "stream",
     "text": [
      "94\n"
     ]
    }
   ],
   "source": [
    "print(fuzz.ratio(\"cca industries inc\", \"c&a industries inc\"))"
   ]
  },
  {
   "cell_type": "code",
   "execution_count": 11,
   "metadata": {},
   "outputs": [
    {
     "name": "stdout",
     "output_type": "stream",
     "text": [
      "98\n"
     ]
    }
   ],
   "source": [
    "print(fuzz.ratio(\"wintrust financial corp\", \"intrust financial corp\"))"
   ]
  },
  {
   "cell_type": "markdown",
   "metadata": {},
   "source": [
    "The company \"cca industries inc\" is different from \"c&a industries inc\", and \"wintrust financial corp\" is different from \"intrust financial corp\". This technique can be used to suggest the \"closest\" company from Compustat. However, manual inspection is still required in order to confirm these results.   "
   ]
  },
  {
   "cell_type": "code",
   "execution_count": null,
   "metadata": {},
   "outputs": [],
   "source": []
  }
 ],
 "metadata": {
  "kernelspec": {
   "display_name": "Python 3",
   "language": "python",
   "name": "python3"
  },
  "language_info": {
   "codemirror_mode": {
    "name": "ipython",
    "version": 3
   },
   "file_extension": ".py",
   "mimetype": "text/x-python",
   "name": "python",
   "nbconvert_exporter": "python",
   "pygments_lexer": "ipython3",
   "version": "3.7.1"
  }
 },
 "nbformat": 4,
 "nbformat_minor": 2
}
