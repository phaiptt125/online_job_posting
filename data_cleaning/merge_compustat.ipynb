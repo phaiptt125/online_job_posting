{
 "cells": [
  {
   "cell_type": "markdown",
   "metadata": {},
   "source": [
    "# The Fuzzy Matching Algorithm to Merge Vacancy Postings with Compustat Data\n",
    "Phai Phongthiengtham\n",
    "***"
   ]
  },
  {
   "cell_type": "markdown",
   "metadata": {},
   "source": [
    "This IPython notebook demonstrates the fuzzy matching algorithm used to match firm names from online job vacancy postings and compustat database."
   ]
  },
  {
   "cell_type": "markdown",
   "metadata": {},
   "source": [
    "## Import necessary modules"
   ]
  },
  {
   "cell_type": "code",
   "execution_count": 10,
   "metadata": {
    "collapsed": true
   },
   "outputs": [],
   "source": [
    "import os\n",
    "import re\n",
    "import pandas as pd\n",
    "import fuzzywuzzy\n",
    "from fuzzywuzzy import fuzz"
   ]
  },
  {
   "cell_type": "markdown",
   "metadata": {},
   "source": [
    "## The Fuzzy matching algorithm\n",
    "\n",
    "Given that a company may not use its exact legal name when posting a vacancy, we use the fuzzy matching algorithm to identify imperfect string match. For example, suppose we are matching:"
   ]
  },
  {
   "cell_type": "code",
   "execution_count": 11,
   "metadata": {},
   "outputs": [
    {
     "data": {
      "text/plain": [
       "95"
      ]
     },
     "execution_count": 11,
     "metadata": {},
     "output_type": "execute_result"
    }
   ],
   "source": [
    "fuzz.token_sort_ratio(\"enterprise products partners lp\", \"enterprise products partners\")"
   ]
  },
  {
   "cell_type": "markdown",
   "metadata": {},
   "source": [
    "The fuzzy matching algorithm would suggestthat the two strings are closed to each other (see [here](https://pypi.python.org/pypi/fuzzywuzzy) for more detail). "
   ]
  },
  {
   "cell_type": "markdown",
   "metadata": {},
   "source": [
    "## COMPUSTAT (North America) database\n",
    "\n",
    "All publicly traded companies in the US are required to track accounting and balance sheet data. Compustat database, therefore, provides excellent information on firms. Full compustat dataset contains more than 1,800 variables. For this exercise, we are interested in the company legal name (conml). According to the compustat database variable description, this is the official company name as reported on its EDGAR SEC filings."
   ]
  },
  {
   "cell_type": "code",
   "execution_count": 12,
   "metadata": {},
   "outputs": [
    {
     "data": {
      "text/plain": [
       "0     01 COMMUNIQUE LABORATORY INC\n",
       "1                1-800-FLOWERS.COM\n",
       "2      1347 PROPERTY INS HLDGS INC\n",
       "3             180 DEGREE CPTL CORP\n",
       "4               1PM INDUSTRIES INC\n",
       "5                 1ST CAPITAL BANK\n",
       "6       1ST CENTURY BANCSHARES INC\n",
       "7         1ST CONSTITUTION BANCORP\n",
       "8              1ST ENTERPRISE BANK\n",
       "9                  1ST SOURCE CORP\n",
       "10          1ST UNITED BANCORP INC\n",
       "11          20-20 TECHNOLOGIES INC\n",
       "12                 2050 MOTORS INC\n",
       "13     21ST CENTURY ONCOLOGY HLDGS\n",
       "14              21VIANET GROUP INC\n",
       "15                 2242749 ONT LTD\n",
       "16          22ND CENTURY GROUP INC\n",
       "17                24/7 KID DOC INC\n",
       "18                          2U INC\n",
       "19                        30DC INC\n",
       "20                    360 VOX CORP\n",
       "21                  37 CAPITAL INC\n",
       "22          3D PIONEER SYSTEMS INC\n",
       "23               3D SIGNATURES INC\n",
       "24                 3D SYSTEMS CORP\n",
       "25                3DICON CORP -OLD\n",
       "26              3DX INDUSTRIES INC\n",
       "27                           3M CO\n",
       "28                 3MV ENERGY CORP\n",
       "29         3POWER ENERGY GROUP INC\n",
       "30                       3SBIO INC\n",
       "31                 4LICENSING CORP\n",
       "32               500.COM LTD  -ADR\n",
       "33                 51JOB INC  -ADR\n",
       "34                58.COM INC  -ADR\n",
       "35                 5BANC SPLIT INC\n",
       "36         5BARZ INTERNATIONAL INC\n",
       "37                     5N PLUS INC\n",
       "38          6D GLOBAL TECHNOLOGIES\n",
       "39    7 DAYS GROUP HLDGS LTD  -ADR\n",
       "40       808 RENEWABLE ENERGY CORP\n",
       "41      8POINT3 ENERGY PARTNERS LP\n",
       "42                         8X8 INC\n",
       "43            99 CENTS ONLY STORES\n",
       "44                   A V HOMES INC\n",
       "45    A&W REVENUE ROYALTIES INC FD\n",
       "46                   A-1 GROUP INC\n",
       "47      A-MARK PRECIOUS METALS INC\n",
       "48                 A. H. BELO CORP\n",
       "49        A.C. SIMMONDS & SONS INC\n",
       "Name: conml, dtype: object"
      ]
     },
     "execution_count": 12,
     "metadata": {},
     "output_type": "execute_result"
    }
   ],
   "source": [
    "compustat_file_name = 'compustat.txt'\n",
    "df_compustat_name = pd.read_csv(compustat_file_name,sep='\\t')\n",
    "df_compustat_name.conml.head(50)"
   ]
  },
  {
   "cell_type": "markdown",
   "metadata": {},
   "source": [
    "## Job vacancy postings"
   ]
  },
  {
   "cell_type": "markdown",
   "metadata": {},
   "source": [
    "In previous step, we perform initial cleaning step of the job vacancy postings (See [here](https://github.com/phaiptt125/online_job_posting/blob/master/data_cleaning/initial_cleaning.ipynb)). \n",
    "\n"
   ]
  },
  {
   "cell_type": "code",
   "execution_count": 13,
   "metadata": {},
   "outputs": [
    {
     "data": {
      "text/html": [
       "<div>\n",
       "<style>\n",
       "    .dataframe thead tr:only-child th {\n",
       "        text-align: right;\n",
       "    }\n",
       "\n",
       "    .dataframe thead th {\n",
       "        text-align: left;\n",
       "    }\n",
       "\n",
       "    .dataframe tbody tr th {\n",
       "        vertical-align: top;\n",
       "    }\n",
       "</style>\n",
       "<table border=\"1\" class=\"dataframe\">\n",
       "  <thead>\n",
       "    <tr style=\"text-align: right;\">\n",
       "      <th></th>\n",
       "      <th>company_name</th>\n",
       "    </tr>\n",
       "  </thead>\n",
       "  <tbody>\n",
       "    <tr>\n",
       "      <th>0</th>\n",
       "      <td>A &amp; Associates Inc</td>\n",
       "    </tr>\n",
       "    <tr>\n",
       "      <th>1</th>\n",
       "      <td>A-1 Roofing</td>\n",
       "    </tr>\n",
       "    <tr>\n",
       "      <th>12</th>\n",
       "      <td>Active Learners Academy</td>\n",
       "    </tr>\n",
       "    <tr>\n",
       "      <th>8</th>\n",
       "      <td>Adesa Corporation, LLC</td>\n",
       "    </tr>\n",
       "    <tr>\n",
       "      <th>2</th>\n",
       "      <td>Adesa of Lexington, Inc</td>\n",
       "    </tr>\n",
       "    <tr>\n",
       "      <th>13</th>\n",
       "      <td>Agile Premier, LLC</td>\n",
       "    </tr>\n",
       "    <tr>\n",
       "      <th>24</th>\n",
       "      <td>American Academy of Dermatology, Inc.</td>\n",
       "    </tr>\n",
       "    <tr>\n",
       "      <th>27</th>\n",
       "      <td>American Cancer Society</td>\n",
       "    </tr>\n",
       "    <tr>\n",
       "      <th>28</th>\n",
       "      <td>American Management Resources Corporation</td>\n",
       "    </tr>\n",
       "    <tr>\n",
       "      <th>29</th>\n",
       "      <td>Appareo Systems, LLC</td>\n",
       "    </tr>\n",
       "    <tr>\n",
       "      <th>51</th>\n",
       "      <td>Apple Vacations</td>\n",
       "    </tr>\n",
       "    <tr>\n",
       "      <th>101</th>\n",
       "      <td>Appletree</td>\n",
       "    </tr>\n",
       "    <tr>\n",
       "      <th>105</th>\n",
       "      <td>Associated Electric Cooperative, Inc.</td>\n",
       "    </tr>\n",
       "    <tr>\n",
       "      <th>106</th>\n",
       "      <td>Associated Grocers of The South, Inc.</td>\n",
       "    </tr>\n",
       "    <tr>\n",
       "      <th>107</th>\n",
       "      <td>Atlantic Trucking Company, Inc.</td>\n",
       "    </tr>\n",
       "    <tr>\n",
       "      <th>108</th>\n",
       "      <td>Avago Technologies U.S. Inc.</td>\n",
       "    </tr>\n",
       "    <tr>\n",
       "      <th>147</th>\n",
       "      <td>Barska</td>\n",
       "    </tr>\n",
       "    <tr>\n",
       "      <th>148</th>\n",
       "      <td>Bayada Home Health Care, Inc.</td>\n",
       "    </tr>\n",
       "    <tr>\n",
       "      <th>102</th>\n",
       "      <td>NaN</td>\n",
       "    </tr>\n",
       "  </tbody>\n",
       "</table>\n",
       "</div>"
      ],
      "text/plain": [
       "                                  company_name\n",
       "0                           A & Associates Inc\n",
       "1                                  A-1 Roofing\n",
       "12                     Active Learners Academy\n",
       "8                       Adesa Corporation, LLC\n",
       "2                      Adesa of Lexington, Inc\n",
       "13                          Agile Premier, LLC\n",
       "24       American Academy of Dermatology, Inc.\n",
       "27                     American Cancer Society\n",
       "28   American Management Resources Corporation\n",
       "29                        Appareo Systems, LLC\n",
       "51                             Apple Vacations\n",
       "101                                  Appletree\n",
       "105      Associated Electric Cooperative, Inc.\n",
       "106      Associated Grocers of The South, Inc.\n",
       "107            Atlantic Trucking Company, Inc.\n",
       "108               Avago Technologies U.S. Inc.\n",
       "147                                     Barska\n",
       "148              Bayada Home Health Care, Inc.\n",
       "102                                        NaN"
      ]
     },
     "execution_count": 13,
     "metadata": {},
     "output_type": "execute_result"
    }
   ],
   "source": [
    "posting_file_name = 'structured_data.txt'\n",
    "\n",
    "df_posting = pd.read_csv(posting_file_name,sep='\\t')\n",
    "df_posting = df_posting[['company_name']].drop_duplicates()\n",
    "df_posting = df_posting.sort_values(['company_name'])\n",
    "df_posting.head(50)"
   ]
  },
  {
   "cell_type": "markdown",
   "metadata": {},
   "source": [
    "## Edit company names\n",
    "First, we lightly edit the company names as follow: \n",
    "\n",
    "1. Convert all character to lowercase.\n",
    "2. Remove all punctuation.\n",
    "3. Reset extra whitespaces\n",
    "\n",
    "For example:"
   ]
  },
  {
   "cell_type": "code",
   "execution_count": 14,
   "metadata": {},
   "outputs": [
    {
     "name": "stdout",
     "output_type": "stream",
     "text": [
      "original name: Oceaneering International, Inc.\n",
      "processed name: oceaneering international inc\n",
      "-------------------------------------------\n"
     ]
    }
   ],
   "source": [
    "original_name = 'Oceaneering International, Inc.'\n",
    "name = original_name.lower() # change to lowercase.\n",
    "name = re.sub('[^a-z0-9]',' ', name) \n",
    "# replace all non-alphanumeric characters with whitespaces.\n",
    "name = ' '.join([w for w in re.split(' ',name) if not w==''])\n",
    "# remove extra whitespaces.\n",
    "print('original name: ' + original_name)\n",
    "print('processed name: ' + name)\n",
    "print('-------------------------------------------')"
   ]
  },
  {
   "cell_type": "markdown",
   "metadata": {},
   "source": [
    "## Match Company Names"
   ]
  },
  {
   "cell_type": "markdown",
   "metadata": {},
   "source": [
    "Then, we match the company name as follows:\n",
    "\n",
    "1. Direct match: for each vacancy posting company name, we loop through each of the Compustat company name and see if there is any direct match.\n",
    "2. Replace common abbrevations and re-match: we further edit the company names by removing common suffixes and abbrevations. Then repeat step 1\n",
    "3. Fuzzy string matching: repeat 2 but use fuzzy string matching with 90% or greater ratio."
   ]
  },
  {
   "cell_type": "code",
   "execution_count": 15,
   "metadata": {
    "collapsed": true
   },
   "outputs": [],
   "source": [
    "remove_word = ['inc','corp','ltd','etf','group','co','holdings',\n",
    "               'resources','fd','intl','global','tr','international','plc']\n",
    "\n",
    "regex = '|'.join(remove_word)"
   ]
  },
  {
   "cell_type": "code",
   "execution_count": 16,
   "metadata": {
    "collapsed": true
   },
   "outputs": [],
   "source": [
    "list_compustat_name = df_compustat_name.conml.unique()\n",
    "list_compustat_name_clean1 = [re.sub('\\W','',w.lower()) for w in list_compustat_name]\n",
    "list_compustat_name_clean2 = [re.sub(regex,'',w) for w in list_compustat_name_clean1]"
   ]
  },
  {
   "cell_type": "code",
   "execution_count": 17,
   "metadata": {
    "collapsed": true
   },
   "outputs": [],
   "source": [
    "def fuzzy_match(name_to_match, list_all_name):\n",
    "\n",
    "    ratio = [(fuzz.ratio(name_to_match, w),w) for w in list_all_name if fuzz.token_sort_ratio(name_to_match, w) >= 90]\n",
    "\n",
    "    assert(len(ratio)<=1)\n",
    "\n",
    "    if len(ratio) == 0:\n",
    "        output = None\n",
    "    else:\n",
    "        output = ratio[0][1]\n",
    "    \n",
    "    return output"
   ]
  },
  {
   "cell_type": "code",
   "execution_count": 18,
   "metadata": {},
   "outputs": [
    {
     "name": "stdout",
     "output_type": "stream",
     "text": [
      "posting from \"onvia inc co\" is matched with compustat company \"ONVIA INC\"\n",
      "posting from \"enterprise products partners lp\" is matched with compustat company \"ENTERPRISE PRODS PRTNRS  -LP\"\n"
     ]
    }
   ],
   "source": [
    "list_posting_firm = ['onvia inc co','enterprise products partners lp']\n",
    "\n",
    "for posting_firm in list_posting_firm:\n",
    "\n",
    "    matching_indicator = False\n",
    "    \n",
    "    posting_firm_clean1 = re.sub('\\W','',posting_firm.lower())\n",
    "    posting_firm_clean2 = re.sub(regex,'',posting_firm_clean1)\n",
    "\n",
    "    if posting_firm_clean1 in list_compustat_name_clean1:\n",
    "        matching_indicator = True\n",
    "        i = list_compustat_name_clean1.index(posting_firm_clean1)\n",
    "        compustat_name = list_compustat_name[i]\n",
    "        print('posting from \"'+ posting_firm + '\" is matched with compustat company \"' + compustat_name + '\"')\n",
    "\n",
    "    if matching_indicator == False:\n",
    "        if posting_firm_clean2 in list_compustat_name_clean2:\n",
    "            matching_indicator = True\n",
    "            i = list_compustat_name_clean2.index(posting_firm_clean2)\n",
    "            compustat_name = list_compustat_name[i]\n",
    "            print('posting from \"'+ posting_firm + '\" is matched with compustat company \"' + compustat_name + '\"')\n",
    "\n",
    "    if matching_indicator == False:\n",
    "        fuzzy = fuzzy_match(posting_firm_clean2, list_compustat_name_clean2)\n",
    "        if fuzzy:\n",
    "            matching_indicator = True\n",
    "            i = list_compustat_name_clean2.index(fuzzy)\n",
    "            compustat_name = list_compustat_name[i]\n",
    "            print('posting from \"'+ posting_firm + '\" is matched with compustat company \"' + compustat_name + '\"')"
   ]
  }
 ],
 "metadata": {
  "anaconda-cloud": {},
  "kernelspec": {
   "display_name": "Python 3",
   "language": "python",
   "name": "python3"
  },
  "language_info": {
   "codemirror_mode": {
    "name": "ipython",
    "version": 3
   },
   "file_extension": ".py",
   "mimetype": "text/x-python",
   "name": "python",
   "nbconvert_exporter": "python",
   "pygments_lexer": "ipython3",
   "version": "3.6.2"
  }
 },
 "nbformat": 4,
 "nbformat_minor": 1
}
