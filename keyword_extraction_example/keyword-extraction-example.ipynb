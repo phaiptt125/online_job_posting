{
 "cells": [
  {
   "cell_type": "markdown",
   "metadata": {},
   "source": [
    "# Keyword extraction from text"
   ]
  },
  {
   "cell_type": "markdown",
   "metadata": {},
   "source": [
    "- Phai Phongthiengtham"
   ]
  },
  {
   "cell_type": "code",
   "execution_count": 1,
   "metadata": {},
   "outputs": [],
   "source": [
    "import os\n",
    "import re\n",
    "import json\n",
    "import pandas as pd\n",
    "\n",
    "import nltk # requires pip install\n",
    "from nltk import word_tokenize"
   ]
  },
  {
   "cell_type": "code",
   "execution_count": 2,
   "metadata": {},
   "outputs": [
    {
     "data": {
      "text/html": [
       "<div>\n",
       "<style scoped>\n",
       "    .dataframe tbody tr th:only-of-type {\n",
       "        vertical-align: middle;\n",
       "    }\n",
       "\n",
       "    .dataframe tbody tr th {\n",
       "        vertical-align: top;\n",
       "    }\n",
       "\n",
       "    .dataframe thead th {\n",
       "        text-align: right;\n",
       "    }\n",
       "</style>\n",
       "<table border=\"1\" class=\"dataframe\">\n",
       "  <thead>\n",
       "    <tr style=\"text-align: right;\">\n",
       "      <th></th>\n",
       "      <th>id</th>\n",
       "      <th>text</th>\n",
       "    </tr>\n",
       "  </thead>\n",
       "  <tbody>\n",
       "    <tr>\n",
       "      <th>0</th>\n",
       "      <td>1</td>\n",
       "      <td>*Job Summary: Reporting to the General Manager...</td>\n",
       "    </tr>\n",
       "    <tr>\n",
       "      <th>1</th>\n",
       "      <td>2</td>\n",
       "      <td>*Job Summary:Reporting to the designated super...</td>\n",
       "    </tr>\n",
       "    <tr>\n",
       "      <th>2</th>\n",
       "      <td>3</td>\n",
       "      <td>*Job Summary: Reporting to the facility design...</td>\n",
       "    </tr>\n",
       "  </tbody>\n",
       "</table>\n",
       "</div>"
      ],
      "text/plain": [
       "   id                                               text\n",
       "0   1  *Job Summary: Reporting to the General Manager...\n",
       "1   2  *Job Summary:Reporting to the designated super...\n",
       "2   3  *Job Summary: Reporting to the facility design..."
      ]
     },
     "execution_count": 2,
     "metadata": {},
     "output_type": "execute_result"
    }
   ],
   "source": [
    "# read in dataset\n",
    "ad_data = pd.read_csv('ad_sample.csv')\n",
    "ad_data"
   ]
  },
  {
   "cell_type": "code",
   "execution_count": 3,
   "metadata": {},
   "outputs": [],
   "source": [
    "# define lists of keywords\n",
    "list_keywords = dict()\n",
    "list_keywords['t_problem_solving'] = ['cognitive', 'research', 'analytical', 'math', 'statistics','problem solving', 'critical thinking']\n",
    "list_keywords['t_social'] = ['social', 'communication', 'teamwork', 'collaboration', 'negotiation', 'presentation']\n",
    "list_keywords['t_character'] = ['character', 'energetic', 'multi-tasking','detail oriented', 'multi tasking', 'time management', 'meeting deadlines']\n",
    "list_keywords['t_writing'] = ['writing']\n",
    "list_keywords['t_customer_service'] = ['customer', 'sales', 'client', 'patient','customer service']\n",
    "list_keywords['t_project_management'] = ['project management']\n",
    "list_keywords['t_people_management'] = ['supervisory', 'leadership', 'mentoring', 'staff','people management']\n",
    "list_keywords['t_financial'] = ['financial', 'budgeting', 'accounting', 'finance', 'cost']\n",
    "list_keywords['t_computer'] = ['computer', 'spreadsheets', 'software']"
   ]
  },
  {
   "cell_type": "markdown",
   "metadata": {},
   "source": [
    "- see https://occupationdata.github.io/\n",
    "- the list is downloaded from http://occupationdata.github.io/apst_mapping.xlsx"
   ]
  },
  {
   "cell_type": "code",
   "execution_count": 4,
   "metadata": {},
   "outputs": [
    {
     "data": {
      "text/plain": [
       "['t_problem_solving',\n",
       " 't_social',\n",
       " 't_character',\n",
       " 't_writing',\n",
       " 't_customer_service',\n",
       " 't_project_management',\n",
       " 't_people_management',\n",
       " 't_financial',\n",
       " 't_computer']"
      ]
     },
     "execution_count": 4,
     "metadata": {},
     "output_type": "execute_result"
    }
   ],
   "source": [
    "list(list_keywords.keys())"
   ]
  },
  {
   "cell_type": "code",
   "execution_count": 5,
   "metadata": {},
   "outputs": [],
   "source": [
    "def clean_raw_text(text):\n",
    "    '''\n",
    "    function to clean raw text and compute length (by number of words).\n",
    "    '''\n",
    "    \n",
    "    words = [w.lower() for w in word_tokenize(str(text)) if len(w)>1] #ignore words with length of 1 or 0\n",
    "    length_ad = len(words)\n",
    "    \n",
    "    clean_text = ' '.join(words)\n",
    "    \n",
    "    # replace the following characters with white spaces \n",
    "    replace_character = ['(',')','[',']','.',',',':','*']\n",
    "    \n",
    "    for character in replace_character:\n",
    "        clean_text = clean_text.replace(character,' ')\n",
    "        \n",
    "    # remove extra white spaces\n",
    "    clean_text = ' '.join([w for w in re.split(' ', clean_text) if not w ==''])\n",
    "    \n",
    "    return clean_text, length_ad\n",
    "\n",
    "def extract_keyword(clean_text, keywords):\n",
    "    '''\n",
    "    function to extract keywords and count number of keywords found.\n",
    "    '''\n",
    "    \n",
    "    regex = re.compile('|'.join(['\\\\b' + w + '\\\\b' for w in keywords]))\n",
    "    \n",
    "    if re.findall(regex, clean_text): # if found\n",
    "        keyword_found = re.findall(regex, clean_text)\n",
    "        n_keyword = len(keyword_found)\n",
    "    else: # else, return 0\n",
    "        keyword_found = ['']\n",
    "        n_keyword = 0\n",
    "    \n",
    "    return ','.join(keyword_found), n_keyword"
   ]
  },
  {
   "cell_type": "code",
   "execution_count": 6,
   "metadata": {},
   "outputs": [
    {
     "data": {
      "text/html": [
       "<div>\n",
       "<style scoped>\n",
       "    .dataframe tbody tr th:only-of-type {\n",
       "        vertical-align: middle;\n",
       "    }\n",
       "\n",
       "    .dataframe tbody tr th {\n",
       "        vertical-align: top;\n",
       "    }\n",
       "\n",
       "    .dataframe thead th {\n",
       "        text-align: right;\n",
       "    }\n",
       "</style>\n",
       "<table border=\"1\" class=\"dataframe\">\n",
       "  <thead>\n",
       "    <tr style=\"text-align: right;\">\n",
       "      <th></th>\n",
       "      <th>id</th>\n",
       "      <th>text</th>\n",
       "      <th>length_ad</th>\n",
       "      <th>clean_text</th>\n",
       "      <th>t_problem_solving_found</th>\n",
       "      <th>t_problem_solving_count</th>\n",
       "      <th>t_social_found</th>\n",
       "      <th>t_social_count</th>\n",
       "      <th>t_character_found</th>\n",
       "      <th>t_character_count</th>\n",
       "      <th>...</th>\n",
       "      <th>t_customer_service_found</th>\n",
       "      <th>t_customer_service_count</th>\n",
       "      <th>t_project_management_found</th>\n",
       "      <th>t_project_management_count</th>\n",
       "      <th>t_people_management_found</th>\n",
       "      <th>t_people_management_count</th>\n",
       "      <th>t_financial_found</th>\n",
       "      <th>t_financial_count</th>\n",
       "      <th>t_computer_found</th>\n",
       "      <th>t_computer_count</th>\n",
       "    </tr>\n",
       "  </thead>\n",
       "  <tbody>\n",
       "    <tr>\n",
       "      <th>0</th>\n",
       "      <td>1</td>\n",
       "      <td>*Job Summary: Reporting to the General Manager...</td>\n",
       "      <td>353.0</td>\n",
       "      <td>job summary reporting to the general manager o...</td>\n",
       "      <td></td>\n",
       "      <td>0.0</td>\n",
       "      <td>teamwork</td>\n",
       "      <td>1.0</td>\n",
       "      <td></td>\n",
       "      <td>0.0</td>\n",
       "      <td>...</td>\n",
       "      <td>sales,customer,customer,customer,customer,cust...</td>\n",
       "      <td>7.0</td>\n",
       "      <td></td>\n",
       "      <td>0.0</td>\n",
       "      <td></td>\n",
       "      <td>0.0</td>\n",
       "      <td></td>\n",
       "      <td>0.0</td>\n",
       "      <td></td>\n",
       "      <td>0.0</td>\n",
       "    </tr>\n",
       "    <tr>\n",
       "      <th>1</th>\n",
       "      <td>2</td>\n",
       "      <td>*Job Summary:Reporting to the designated super...</td>\n",
       "      <td>569.0</td>\n",
       "      <td>job summary reporting to the designated superv...</td>\n",
       "      <td></td>\n",
       "      <td>0.0</td>\n",
       "      <td>teamwork</td>\n",
       "      <td>1.0</td>\n",
       "      <td></td>\n",
       "      <td>0.0</td>\n",
       "      <td>...</td>\n",
       "      <td>customer,customer,customer,customer</td>\n",
       "      <td>4.0</td>\n",
       "      <td></td>\n",
       "      <td>0.0</td>\n",
       "      <td></td>\n",
       "      <td>0.0</td>\n",
       "      <td></td>\n",
       "      <td>0.0</td>\n",
       "      <td></td>\n",
       "      <td>0.0</td>\n",
       "    </tr>\n",
       "    <tr>\n",
       "      <th>2</th>\n",
       "      <td>3</td>\n",
       "      <td>*Job Summary: Reporting to the facility design...</td>\n",
       "      <td>396.0</td>\n",
       "      <td>job summary reporting to the facility designat...</td>\n",
       "      <td></td>\n",
       "      <td>0.0</td>\n",
       "      <td>teamwork</td>\n",
       "      <td>1.0</td>\n",
       "      <td></td>\n",
       "      <td>0.0</td>\n",
       "      <td>...</td>\n",
       "      <td>customer,customer</td>\n",
       "      <td>2.0</td>\n",
       "      <td></td>\n",
       "      <td>0.0</td>\n",
       "      <td></td>\n",
       "      <td>0.0</td>\n",
       "      <td></td>\n",
       "      <td>0.0</td>\n",
       "      <td></td>\n",
       "      <td>0.0</td>\n",
       "    </tr>\n",
       "  </tbody>\n",
       "</table>\n",
       "<p>3 rows × 22 columns</p>\n",
       "</div>"
      ],
      "text/plain": [
       "   id                                               text  length_ad  \\\n",
       "0   1  *Job Summary: Reporting to the General Manager...      353.0   \n",
       "1   2  *Job Summary:Reporting to the designated super...      569.0   \n",
       "2   3  *Job Summary: Reporting to the facility design...      396.0   \n",
       "\n",
       "                                          clean_text t_problem_solving_found  \\\n",
       "0  job summary reporting to the general manager o...                           \n",
       "1  job summary reporting to the designated superv...                           \n",
       "2  job summary reporting to the facility designat...                           \n",
       "\n",
       "   t_problem_solving_count t_social_found  t_social_count t_character_found  \\\n",
       "0                      0.0       teamwork             1.0                     \n",
       "1                      0.0       teamwork             1.0                     \n",
       "2                      0.0       teamwork             1.0                     \n",
       "\n",
       "   t_character_count  ...                           t_customer_service_found  \\\n",
       "0                0.0  ...  sales,customer,customer,customer,customer,cust...   \n",
       "1                0.0  ...                customer,customer,customer,customer   \n",
       "2                0.0  ...                                  customer,customer   \n",
       "\n",
       "   t_customer_service_count t_project_management_found  \\\n",
       "0                       7.0                              \n",
       "1                       4.0                              \n",
       "2                       2.0                              \n",
       "\n",
       "   t_project_management_count t_people_management_found  \\\n",
       "0                         0.0                             \n",
       "1                         0.0                             \n",
       "2                         0.0                             \n",
       "\n",
       "   t_people_management_count t_financial_found  t_financial_count  \\\n",
       "0                        0.0                                  0.0   \n",
       "1                        0.0                                  0.0   \n",
       "2                        0.0                                  0.0   \n",
       "\n",
       "  t_computer_found  t_computer_count  \n",
       "0                                0.0  \n",
       "1                                0.0  \n",
       "2                                0.0  \n",
       "\n",
       "[3 rows x 22 columns]"
      ]
     },
     "execution_count": 6,
     "metadata": {},
     "output_type": "execute_result"
    }
   ],
   "source": [
    "# apply functions to the dataset\n",
    "for row_index, row in ad_data.iterrows():\n",
    "    text = row['text']\n",
    "    clean_text, length_ad = clean_raw_text(text)\n",
    "    \n",
    "    ad_data.loc[row_index, 'length_ad'] = int(length_ad)\n",
    "    ad_data.loc[row_index, 'clean_text'] = clean_text\n",
    "    \n",
    "    for t in list(list_keywords.keys()):\n",
    "        keyword_found, n_keyword = extract_keyword(clean_text, list_keywords[t])\n",
    "        \n",
    "        ad_data.loc[row_index, t + '_found'] = keyword_found\n",
    "        ad_data.loc[row_index, t + '_count'] = int(n_keyword)\n",
    "        \n",
    "ad_data"
   ]
  },
  {
   "cell_type": "code",
   "execution_count": 7,
   "metadata": {},
   "outputs": [
    {
     "data": {
      "text/plain": [
       "'*Job Summary: Reporting to the General Manager or designated manager, plan, implement and coordinate the outside operations and functions of one or more of the following departments: Consignment, Factory, Fleet/Lease, Commercial Account or E-Commerce in accordance with corporate guidelines to ensure maximum dollar sales volume in the most profitable way possible. Perform all duties assigned by the General Manager or designated manager. Must know, practice and ensure that company policies and procedures and state or federal laws are followed at all times. Job Responsibilities and Duties:  1.       Perform duties in compliance with all contractual customer, contractor and supplier agreements. 2.       Assist in assuring the inventory is in the proper designated areas of the lot at all times. Track missing units and help with a physical inventory on a periodic basis.    3.       Assist the Operations Manager. 4.       Operate wrecker as needed. 5.       Basic mechanical duties. 6.   Any other duties assigned by the General Manager or designated manager. General Employee Responsibilities:  20.   Standards of Conduct:a)       Provide prompt and courteous service at all times. b)       Perform customer service transactions as described in the account contract. c)       Be familiar with procedures for handling all aspects of customer service. d)       Make sure customers receive prompt, efficient and courteous attention from all employees. e)       Resolve any customer complaints in a friendly, courteous manner and advise the General Manager or designated manager of all serious complaints or incidences.f)         Maintain a professional appearance and a neat work environment consistent with the Employee Handbook. g)       Be a Team Leader.  Practice and promote teamwork at all times.  Set a good personal example of attitude and performance. h)       Advise the designated manager and Facilities of all breakdowns and maintenance needs immediately to ensure a safe work environment. i)         Make sure all Department area conditions do not threaten employee or customer safety.  Respond to and follow proper procedures on employee and customer accidents, injuries, and loss or damage to any property.  Report all incidents to the Manager immediately.  Practice proper loss prevention and reaction procedures. j)    Follow directions at all times.Educational Requirements and Qualifications:  High School Diploma or GED required.  At least one (1) year Account Management and one (1) year auto auction experience preferred.  Must be qualified to operate a motor vehicle and possess and maintain a valid driver s license.'"
      ]
     },
     "execution_count": 7,
     "metadata": {},
     "output_type": "execute_result"
    }
   ],
   "source": [
    "# print first ad raw text\n",
    "ad_data.iloc[0]['text']"
   ]
  },
  {
   "cell_type": "code",
   "execution_count": 8,
   "metadata": {},
   "outputs": [
    {
     "data": {
      "text/plain": [
       "'job summary reporting to the general manager or designated manager plan implement and coordinate the outside operations and functions of one or more of the following departments consignment factory fleet/lease commercial account or e-commerce in accordance with corporate guidelines to ensure maximum dollar sales volume in the most profitable way possible perform all duties assigned by the general manager or designated manager must know practice and ensure that company policies and procedures and state or federal laws are followed at all times job responsibilities and duties perform duties in compliance with all contractual customer contractor and supplier agreements assist in assuring the inventory is in the proper designated areas of the lot at all times track missing units and help with physical inventory on periodic basis assist the operations manager operate wrecker as needed basic mechanical duties any other duties assigned by the general manager or designated manager general employee responsibilities 20 standards of conduct provide prompt and courteous service at all times perform customer service transactions as described in the account contract be familiar with procedures for handling all aspects of customer service make sure customers receive prompt efficient and courteous attention from all employees resolve any customer complaints in friendly courteous manner and advise the general manager or designated manager of all serious complaints or incidences f maintain professional appearance and neat work environment consistent with the employee handbook be team leader practice and promote teamwork at all times set good personal example of attitude and performance advise the designated manager and facilities of all breakdowns and maintenance needs immediately to ensure safe work environment make sure all department area conditions do not threaten employee or customer safety respond to and follow proper procedures on employee and customer accidents injuries and loss or damage to any property report all incidents to the manager immediately practice proper loss prevention and reaction procedures follow directions at all times educational requirements and qualifications high school diploma or ged required at least one year account management and one year auto auction experience preferred must be qualified to operate motor vehicle and possess and maintain valid driver license'"
      ]
     },
     "execution_count": 8,
     "metadata": {},
     "output_type": "execute_result"
    }
   ],
   "source": [
    "# print first ad clean text\n",
    "ad_data.iloc[0]['clean_text']"
   ]
  },
  {
   "cell_type": "code",
   "execution_count": null,
   "metadata": {},
   "outputs": [],
   "source": []
  }
 ],
 "metadata": {
  "kernelspec": {
   "display_name": "Python 3",
   "language": "python",
   "name": "python3"
  },
  "language_info": {
   "codemirror_mode": {
    "name": "ipython",
    "version": 3
   },
   "file_extension": ".py",
   "mimetype": "text/x-python",
   "name": "python",
   "nbconvert_exporter": "python",
   "pygments_lexer": "ipython3",
   "version": "3.7.4"
  }
 },
 "nbformat": 4,
 "nbformat_minor": 2
}
